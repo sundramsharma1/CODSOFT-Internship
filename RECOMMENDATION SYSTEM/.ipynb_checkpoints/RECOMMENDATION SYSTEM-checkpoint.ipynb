{
 "cells": [
  {
   "cell_type": "markdown",
   "id": "c84e3036",
   "metadata": {},
   "source": [
    "# RECOMMENDATION SYSTEM"
   ]
  },
  {
   "cell_type": "markdown",
   "id": "5ed7aa85",
   "metadata": {},
   "source": [
    "## Task : \n",
    "Create a simple recommendation system that suggests items to users based on their preferences. You can use techniques like collaborative filtering or content-based filtering to recommend movies, books, or products to users.\n",
    "\n",
    "Here \"I am going to create a music recommendation system for users using the Spotify dataset.\""
   ]
  },
  {
   "cell_type": "markdown",
   "id": "a3aeb1fc",
   "metadata": {},
   "source": [
    "## Importing Libraries "
   ]
  },
  {
   "cell_type": "code",
   "execution_count": 1,
   "id": "f2c616fc",
   "metadata": {},
   "outputs": [],
   "source": [
    "import numpy as np\n",
    "import pandas as pd\n",
    "from tqdm import tqdm\n",
    "from sklearn.preprocessing import MinMaxScaler\n",
    "from sklearn.neighbors import NearestNeighbors"
   ]
  },
  {
   "cell_type": "markdown",
   "id": "88a85090",
   "metadata": {},
   "source": [
    "## Loading The Dataset  "
   ]
  },
  {
   "cell_type": "code",
   "execution_count": 2,
   "id": "12d7ed13",
   "metadata": {},
   "outputs": [],
   "source": [
    "data = pd.read_csv(\"data.csv\")"
   ]
  },
  {
   "cell_type": "code",
   "execution_count": 3,
   "id": "e84f8c6e",
   "metadata": {},
   "outputs": [
    {
     "data": {
      "text/html": [
       "<div>\n",
       "<style scoped>\n",
       "    .dataframe tbody tr th:only-of-type {\n",
       "        vertical-align: middle;\n",
       "    }\n",
       "\n",
       "    .dataframe tbody tr th {\n",
       "        vertical-align: top;\n",
       "    }\n",
       "\n",
       "    .dataframe thead th {\n",
       "        text-align: right;\n",
       "    }\n",
       "</style>\n",
       "<table border=\"1\" class=\"dataframe\">\n",
       "  <thead>\n",
       "    <tr style=\"text-align: right;\">\n",
       "      <th></th>\n",
       "      <th>id</th>\n",
       "      <th>name</th>\n",
       "      <th>artists</th>\n",
       "      <th>duration_ms</th>\n",
       "      <th>release_date</th>\n",
       "      <th>year</th>\n",
       "      <th>acousticness</th>\n",
       "      <th>danceability</th>\n",
       "      <th>energy</th>\n",
       "      <th>instrumentalness</th>\n",
       "      <th>liveness</th>\n",
       "      <th>loudness</th>\n",
       "      <th>speechiness</th>\n",
       "      <th>tempo</th>\n",
       "      <th>valence</th>\n",
       "      <th>mode</th>\n",
       "      <th>key</th>\n",
       "      <th>popularity</th>\n",
       "      <th>explicit</th>\n",
       "    </tr>\n",
       "  </thead>\n",
       "  <tbody>\n",
       "    <tr>\n",
       "      <th>0</th>\n",
       "      <td>6KbQ3uYMLKb5jDxLF7wYDD</td>\n",
       "      <td>Singende Bataillone 1. Teil</td>\n",
       "      <td>['Carl Woitschach']</td>\n",
       "      <td>158648</td>\n",
       "      <td>1928</td>\n",
       "      <td>1928</td>\n",
       "      <td>0.995</td>\n",
       "      <td>0.708</td>\n",
       "      <td>0.1950</td>\n",
       "      <td>0.563</td>\n",
       "      <td>0.1510</td>\n",
       "      <td>-12.428</td>\n",
       "      <td>0.0506</td>\n",
       "      <td>118.469</td>\n",
       "      <td>0.7790</td>\n",
       "      <td>1</td>\n",
       "      <td>10</td>\n",
       "      <td>0</td>\n",
       "      <td>0</td>\n",
       "    </tr>\n",
       "    <tr>\n",
       "      <th>1</th>\n",
       "      <td>6KuQTIu1KoTTkLXKrwlLPV</td>\n",
       "      <td>Fantasiestücke, Op. 111: Più tosto lento</td>\n",
       "      <td>['Robert Schumann', 'Vladimir Horowitz']</td>\n",
       "      <td>282133</td>\n",
       "      <td>1928</td>\n",
       "      <td>1928</td>\n",
       "      <td>0.994</td>\n",
       "      <td>0.379</td>\n",
       "      <td>0.0135</td>\n",
       "      <td>0.901</td>\n",
       "      <td>0.0763</td>\n",
       "      <td>-28.454</td>\n",
       "      <td>0.0462</td>\n",
       "      <td>83.972</td>\n",
       "      <td>0.0767</td>\n",
       "      <td>1</td>\n",
       "      <td>8</td>\n",
       "      <td>0</td>\n",
       "      <td>0</td>\n",
       "    </tr>\n",
       "    <tr>\n",
       "      <th>2</th>\n",
       "      <td>6L63VW0PibdM1HDSBoqnoM</td>\n",
       "      <td>Chapter 1.18 - Zamek kaniowski</td>\n",
       "      <td>['Seweryn Goszczyński']</td>\n",
       "      <td>104300</td>\n",
       "      <td>1928</td>\n",
       "      <td>1928</td>\n",
       "      <td>0.604</td>\n",
       "      <td>0.749</td>\n",
       "      <td>0.2200</td>\n",
       "      <td>0.000</td>\n",
       "      <td>0.1190</td>\n",
       "      <td>-19.924</td>\n",
       "      <td>0.9290</td>\n",
       "      <td>107.177</td>\n",
       "      <td>0.8800</td>\n",
       "      <td>0</td>\n",
       "      <td>5</td>\n",
       "      <td>0</td>\n",
       "      <td>0</td>\n",
       "    </tr>\n",
       "    <tr>\n",
       "      <th>3</th>\n",
       "      <td>6M94FkXd15sOAOQYRnWPN8</td>\n",
       "      <td>Bebamos Juntos - Instrumental (Remasterizado)</td>\n",
       "      <td>['Francisco Canaro']</td>\n",
       "      <td>180760</td>\n",
       "      <td>9/25/28</td>\n",
       "      <td>1928</td>\n",
       "      <td>0.995</td>\n",
       "      <td>0.781</td>\n",
       "      <td>0.1300</td>\n",
       "      <td>0.887</td>\n",
       "      <td>0.1110</td>\n",
       "      <td>-14.734</td>\n",
       "      <td>0.0926</td>\n",
       "      <td>108.003</td>\n",
       "      <td>0.7200</td>\n",
       "      <td>0</td>\n",
       "      <td>1</td>\n",
       "      <td>0</td>\n",
       "      <td>0</td>\n",
       "    </tr>\n",
       "    <tr>\n",
       "      <th>4</th>\n",
       "      <td>6N6tiFZ9vLTSOIxkj8qKrd</td>\n",
       "      <td>Polonaise-Fantaisie in A-Flat Major, Op. 61</td>\n",
       "      <td>['Frédéric Chopin', 'Vladimir Horowitz']</td>\n",
       "      <td>687733</td>\n",
       "      <td>1928</td>\n",
       "      <td>1928</td>\n",
       "      <td>0.990</td>\n",
       "      <td>0.210</td>\n",
       "      <td>0.2040</td>\n",
       "      <td>0.908</td>\n",
       "      <td>0.0980</td>\n",
       "      <td>-16.829</td>\n",
       "      <td>0.0424</td>\n",
       "      <td>62.149</td>\n",
       "      <td>0.0693</td>\n",
       "      <td>1</td>\n",
       "      <td>11</td>\n",
       "      <td>1</td>\n",
       "      <td>0</td>\n",
       "    </tr>\n",
       "  </tbody>\n",
       "</table>\n",
       "</div>"
      ],
      "text/plain": [
       "                       id                                           name  \\\n",
       "0  6KbQ3uYMLKb5jDxLF7wYDD                    Singende Bataillone 1. Teil   \n",
       "1  6KuQTIu1KoTTkLXKrwlLPV       Fantasiestücke, Op. 111: Più tosto lento   \n",
       "2  6L63VW0PibdM1HDSBoqnoM                 Chapter 1.18 - Zamek kaniowski   \n",
       "3  6M94FkXd15sOAOQYRnWPN8  Bebamos Juntos - Instrumental (Remasterizado)   \n",
       "4  6N6tiFZ9vLTSOIxkj8qKrd    Polonaise-Fantaisie in A-Flat Major, Op. 61   \n",
       "\n",
       "                                    artists  duration_ms release_date  year  \\\n",
       "0                       ['Carl Woitschach']       158648         1928  1928   \n",
       "1  ['Robert Schumann', 'Vladimir Horowitz']       282133         1928  1928   \n",
       "2                   ['Seweryn Goszczyński']       104300         1928  1928   \n",
       "3                      ['Francisco Canaro']       180760      9/25/28  1928   \n",
       "4  ['Frédéric Chopin', 'Vladimir Horowitz']       687733         1928  1928   \n",
       "\n",
       "   acousticness  danceability  energy  instrumentalness  liveness  loudness  \\\n",
       "0         0.995         0.708  0.1950             0.563    0.1510   -12.428   \n",
       "1         0.994         0.379  0.0135             0.901    0.0763   -28.454   \n",
       "2         0.604         0.749  0.2200             0.000    0.1190   -19.924   \n",
       "3         0.995         0.781  0.1300             0.887    0.1110   -14.734   \n",
       "4         0.990         0.210  0.2040             0.908    0.0980   -16.829   \n",
       "\n",
       "   speechiness    tempo  valence  mode  key  popularity  explicit  \n",
       "0       0.0506  118.469   0.7790     1   10           0         0  \n",
       "1       0.0462   83.972   0.0767     1    8           0         0  \n",
       "2       0.9290  107.177   0.8800     0    5           0         0  \n",
       "3       0.0926  108.003   0.7200     0    1           0         0  \n",
       "4       0.0424   62.149   0.0693     1   11           1         0  "
      ]
     },
     "execution_count": 3,
     "metadata": {},
     "output_type": "execute_result"
    }
   ],
   "source": [
    "data.head()"
   ]
  },
  {
   "cell_type": "markdown",
   "id": "20ba86f8",
   "metadata": {},
   "source": [
    "## Drop Unwanted columns "
   ]
  },
  {
   "cell_type": "code",
   "execution_count": 4,
   "id": "3375f066",
   "metadata": {},
   "outputs": [],
   "source": [
    "features = data.drop(columns=['id', 'name', 'artists', 'release_date', 'year', 'explicit', 'mode', 'key'])"
   ]
  },
  {
   "cell_type": "markdown",
   "id": "1fb8e4b5",
   "metadata": {},
   "source": [
    "## Normalize numerical features "
   ]
  },
  {
   "cell_type": "code",
   "execution_count": 5,
   "id": "ac602684",
   "metadata": {},
   "outputs": [],
   "source": [
    "scaler = MinMaxScaler()\n",
    "normalized_features = scaler.fit_transform(features)"
   ]
  },
  {
   "cell_type": "markdown",
   "id": "02801dda",
   "metadata": {},
   "source": [
    "## Use Nearest Neighbors to find similar songs "
   ]
  },
  {
   "cell_type": "code",
   "execution_count": 6,
   "id": "15c036ad",
   "metadata": {},
   "outputs": [
    {
     "data": {
      "text/html": [
       "<style>#sk-container-id-1 {color: black;}#sk-container-id-1 pre{padding: 0;}#sk-container-id-1 div.sk-toggleable {background-color: white;}#sk-container-id-1 label.sk-toggleable__label {cursor: pointer;display: block;width: 100%;margin-bottom: 0;padding: 0.3em;box-sizing: border-box;text-align: center;}#sk-container-id-1 label.sk-toggleable__label-arrow:before {content: \"▸\";float: left;margin-right: 0.25em;color: #696969;}#sk-container-id-1 label.sk-toggleable__label-arrow:hover:before {color: black;}#sk-container-id-1 div.sk-estimator:hover label.sk-toggleable__label-arrow:before {color: black;}#sk-container-id-1 div.sk-toggleable__content {max-height: 0;max-width: 0;overflow: hidden;text-align: left;background-color: #f0f8ff;}#sk-container-id-1 div.sk-toggleable__content pre {margin: 0.2em;color: black;border-radius: 0.25em;background-color: #f0f8ff;}#sk-container-id-1 input.sk-toggleable__control:checked~div.sk-toggleable__content {max-height: 200px;max-width: 100%;overflow: auto;}#sk-container-id-1 input.sk-toggleable__control:checked~label.sk-toggleable__label-arrow:before {content: \"▾\";}#sk-container-id-1 div.sk-estimator input.sk-toggleable__control:checked~label.sk-toggleable__label {background-color: #d4ebff;}#sk-container-id-1 div.sk-label input.sk-toggleable__control:checked~label.sk-toggleable__label {background-color: #d4ebff;}#sk-container-id-1 input.sk-hidden--visually {border: 0;clip: rect(1px 1px 1px 1px);clip: rect(1px, 1px, 1px, 1px);height: 1px;margin: -1px;overflow: hidden;padding: 0;position: absolute;width: 1px;}#sk-container-id-1 div.sk-estimator {font-family: monospace;background-color: #f0f8ff;border: 1px dotted black;border-radius: 0.25em;box-sizing: border-box;margin-bottom: 0.5em;}#sk-container-id-1 div.sk-estimator:hover {background-color: #d4ebff;}#sk-container-id-1 div.sk-parallel-item::after {content: \"\";width: 100%;border-bottom: 1px solid gray;flex-grow: 1;}#sk-container-id-1 div.sk-label:hover label.sk-toggleable__label {background-color: #d4ebff;}#sk-container-id-1 div.sk-serial::before {content: \"\";position: absolute;border-left: 1px solid gray;box-sizing: border-box;top: 0;bottom: 0;left: 50%;z-index: 0;}#sk-container-id-1 div.sk-serial {display: flex;flex-direction: column;align-items: center;background-color: white;padding-right: 0.2em;padding-left: 0.2em;position: relative;}#sk-container-id-1 div.sk-item {position: relative;z-index: 1;}#sk-container-id-1 div.sk-parallel {display: flex;align-items: stretch;justify-content: center;background-color: white;position: relative;}#sk-container-id-1 div.sk-item::before, #sk-container-id-1 div.sk-parallel-item::before {content: \"\";position: absolute;border-left: 1px solid gray;box-sizing: border-box;top: 0;bottom: 0;left: 50%;z-index: -1;}#sk-container-id-1 div.sk-parallel-item {display: flex;flex-direction: column;z-index: 1;position: relative;background-color: white;}#sk-container-id-1 div.sk-parallel-item:first-child::after {align-self: flex-end;width: 50%;}#sk-container-id-1 div.sk-parallel-item:last-child::after {align-self: flex-start;width: 50%;}#sk-container-id-1 div.sk-parallel-item:only-child::after {width: 0;}#sk-container-id-1 div.sk-dashed-wrapped {border: 1px dashed gray;margin: 0 0.4em 0.5em 0.4em;box-sizing: border-box;padding-bottom: 0.4em;background-color: white;}#sk-container-id-1 div.sk-label label {font-family: monospace;font-weight: bold;display: inline-block;line-height: 1.2em;}#sk-container-id-1 div.sk-label-container {text-align: center;}#sk-container-id-1 div.sk-container {/* jupyter's `normalize.less` sets `[hidden] { display: none; }` but bootstrap.min.css set `[hidden] { display: none !important; }` so we also need the `!important` here to be able to override the default hidden behavior on the sphinx rendered scikit-learn.org. See: https://github.com/scikit-learn/scikit-learn/issues/21755 */display: inline-block !important;position: relative;}#sk-container-id-1 div.sk-text-repr-fallback {display: none;}</style><div id=\"sk-container-id-1\" class=\"sk-top-container\"><div class=\"sk-text-repr-fallback\"><pre>NearestNeighbors(metric=&#x27;cosine&#x27;, n_neighbors=6)</pre><b>In a Jupyter environment, please rerun this cell to show the HTML representation or trust the notebook. <br />On GitHub, the HTML representation is unable to render, please try loading this page with nbviewer.org.</b></div><div class=\"sk-container\" hidden><div class=\"sk-item\"><div class=\"sk-estimator sk-toggleable\"><input class=\"sk-toggleable__control sk-hidden--visually\" id=\"sk-estimator-id-1\" type=\"checkbox\" checked><label for=\"sk-estimator-id-1\" class=\"sk-toggleable__label sk-toggleable__label-arrow\">NearestNeighbors</label><div class=\"sk-toggleable__content\"><pre>NearestNeighbors(metric=&#x27;cosine&#x27;, n_neighbors=6)</pre></div></div></div></div></div>"
      ],
      "text/plain": [
       "NearestNeighbors(metric='cosine', n_neighbors=6)"
      ]
     },
     "execution_count": 6,
     "metadata": {},
     "output_type": "execute_result"
    }
   ],
   "source": [
    "nn = NearestNeighbors(n_neighbors=6, algorithm='auto', metric='cosine')\n",
    "nn.fit(normalized_features)"
   ]
  },
  {
   "cell_type": "markdown",
   "id": "41e5325c",
   "metadata": {},
   "source": [
    "## Recommend songs similar to a given song "
   ]
  },
  {
   "cell_type": "code",
   "execution_count": 7,
   "id": "82ef84e6",
   "metadata": {},
   "outputs": [],
   "source": [
    "song_name = \"Singende Bataillone 1. Teil\"\n",
    "song_index = data[data['name'].str.lower() == song_name.lower()].index[0]"
   ]
  },
  {
   "cell_type": "markdown",
   "id": "1ba36e07",
   "metadata": {},
   "source": [
    "## Find similar songs "
   ]
  },
  {
   "cell_type": "code",
   "execution_count": 8,
   "id": "db8514dc",
   "metadata": {},
   "outputs": [],
   "source": [
    "distances, indices = nn.kneighbors([normalized_features[song_index]], n_neighbors=6)"
   ]
  },
  {
   "cell_type": "markdown",
   "id": "9922bfdd",
   "metadata": {},
   "source": [
    "## Get indices of similar songs excluding the given song "
   ]
  },
  {
   "cell_type": "code",
   "execution_count": 9,
   "id": "7c85e66d",
   "metadata": {},
   "outputs": [],
   "source": [
    "similar_songs_indices = indices.flatten()\n",
    "similar_songs_indices = similar_songs_indices[similar_songs_indices != song_index]"
   ]
  },
  {
   "cell_type": "markdown",
   "id": "73b630dd",
   "metadata": {},
   "source": [
    "## Display recommendations "
   ]
  },
  {
   "cell_type": "code",
   "execution_count": 11,
   "id": "a6f1669c",
   "metadata": {},
   "outputs": [
    {
     "data": {
      "text/html": [
       "<div>\n",
       "<style scoped>\n",
       "    .dataframe tbody tr th:only-of-type {\n",
       "        vertical-align: middle;\n",
       "    }\n",
       "\n",
       "    .dataframe tbody tr th {\n",
       "        vertical-align: top;\n",
       "    }\n",
       "\n",
       "    .dataframe thead th {\n",
       "        text-align: right;\n",
       "    }\n",
       "</style>\n",
       "<table border=\"1\" class=\"dataframe\">\n",
       "  <thead>\n",
       "    <tr style=\"text-align: right;\">\n",
       "      <th></th>\n",
       "      <th>name</th>\n",
       "      <th>artists</th>\n",
       "    </tr>\n",
       "  </thead>\n",
       "  <tbody>\n",
       "    <tr>\n",
       "      <th>98219</th>\n",
       "      <td>Rostro Palido - Instrumental (Remasterizado)</td>\n",
       "      <td>['Francisco Canaro']</td>\n",
       "    </tr>\n",
       "    <tr>\n",
       "      <th>107610</th>\n",
       "      <td>Rostro Palido</td>\n",
       "      <td>['Francisco Canaro']</td>\n",
       "    </tr>\n",
       "    <tr>\n",
       "      <th>117589</th>\n",
       "      <td>S.O.S. - Remasterizado</td>\n",
       "      <td>['Francisco Canaro', 'Carlos Galán']</td>\n",
       "    </tr>\n",
       "    <tr>\n",
       "      <th>98367</th>\n",
       "      <td>Princesita Sevillana - Remasterizado</td>\n",
       "      <td>['Francisco Canaro', 'Charlo']</td>\n",
       "    </tr>\n",
       "    <tr>\n",
       "      <th>126897</th>\n",
       "      <td>Something Came and Got Me in the Spring</td>\n",
       "      <td>['Roy Fox']</td>\n",
       "    </tr>\n",
       "  </tbody>\n",
       "</table>\n",
       "</div>"
      ],
      "text/plain": [
       "                                                name  \\\n",
       "98219   Rostro Palido - Instrumental (Remasterizado)   \n",
       "107610                                 Rostro Palido   \n",
       "117589                        S.O.S. - Remasterizado   \n",
       "98367           Princesita Sevillana - Remasterizado   \n",
       "126897       Something Came and Got Me in the Spring   \n",
       "\n",
       "                                     artists  \n",
       "98219                   ['Francisco Canaro']  \n",
       "107610                  ['Francisco Canaro']  \n",
       "117589  ['Francisco Canaro', 'Carlos Galán']  \n",
       "98367         ['Francisco Canaro', 'Charlo']  \n",
       "126897                           ['Roy Fox']  "
      ]
     },
     "execution_count": 11,
     "metadata": {},
     "output_type": "execute_result"
    }
   ],
   "source": [
    "top_recommendations = data.iloc[similar_songs_indices]\n",
    "top_recommendations[['name', 'artists']]"
   ]
  },
  {
   "cell_type": "markdown",
   "id": "bb0e115c",
   "metadata": {},
   "source": [
    "# Conclusion"
   ]
  },
  {
   "cell_type": "markdown",
   "id": "519fca3a",
   "metadata": {},
   "source": [
    "In this project, we've implemented a recommendation system for songs using a K-Nearest Neighbors (KNN) approach. By leveraging song features and normalizing them, we've set up a system to recommend songs similar to a given track. Here's a summary of the process:\n",
    "\n",
    "#### 1.Data Preparation: \n",
    "We started by loading the dataset and selecting the relevant numerical features for clustering. Non-numeric columns that weren't needed for similarity calculations were dropped.\n",
    "\n",
    "#### 2.Feature Normalization: \n",
    "To ensure that all features contribute equally to the distance calculation, we normalized the numerical features using MinMaxScaler.\n",
    "\n",
    "#### 3.Nearest Neighbors Implementation: \n",
    "We applied the NearestNeighbors algorithm with a cosine similarity metric to find similar songs. This approach efficiently identifies songs that are most similar to the provided track based on the features.\n",
    "\n",
    "#### 4.Recommendation: \n",
    "For a specified song, we used the trained model to find and list the top similar songs, excluding the input song itself to avoid recommending the same song.\n",
    "\n",
    "The resulting recommendations are based on feature similarity, which can be particularly useful for music discovery."
   ]
  },
  {
   "cell_type": "code",
   "execution_count": null,
   "id": "90a2ac9c",
   "metadata": {},
   "outputs": [],
   "source": []
  }
 ],
 "metadata": {
  "kernelspec": {
   "display_name": "Python 3 (ipykernel)",
   "language": "python",
   "name": "python3"
  },
  "language_info": {
   "codemirror_mode": {
    "name": "ipython",
    "version": 3
   },
   "file_extension": ".py",
   "mimetype": "text/x-python",
   "name": "python",
   "nbconvert_exporter": "python",
   "pygments_lexer": "ipython3",
   "version": "3.11.5"
  }
 },
 "nbformat": 4,
 "nbformat_minor": 5
}
